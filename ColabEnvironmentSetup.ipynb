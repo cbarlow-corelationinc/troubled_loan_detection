{
 "cells": [
  {
   "cell_type": "markdown",
   "metadata": {},
   "source": [
    "# Google Colab Environment Setup #\n"
   ]
  },
  {
   "cell_type": "markdown",
   "metadata": {},
   "source": [
    "## Explanation ##\n",
    "Before you run the Troubled Debt Detection [Jupyter notebooks](https://jupyter.org/) on [Google Colab](https://colab.research.google.com/notebooks/intro.ipynb), you need to run <i>this</i> notebook to create the directory structure, copy the necessary files over from [GitHub](https://github.com/), and install some missing Python libraries. The code in this notebook runs operating system commands, so it has been separated out from the pure Python notebooks themselves. "
   ]
  },
  {
   "cell_type": "markdown",
   "metadata": {},
   "source": [
    "### Import Python Libraries ###\n",
    "First we will import some Python libraries that <i>this<i> code needs."
   ]
  },
  {
   "cell_type": "code",
   "execution_count": null,
   "metadata": {},
   "outputs": [],
   "source": [
    "# Extra imports for pulling zip file from Carl GitHub repository.\n",
    "from datetime import datetime\n",
    "import requests, zipfile, io"
   ]
  },
  {
   "cell_type": "markdown",
   "metadata": {},
   "source": [
    "### Install Python Libraries ###\n",
    "Next we will install some Python libraries that our Troubled Loan Detection code requires but that are not included in the default Google Colab environment."
   ]
  },
  {
   "cell_type": "code",
   "execution_count": null,
   "metadata": {},
   "outputs": [],
   "source": [
    "%pip install scikit-plot"
   ]
  },
  {
   "cell_type": "markdown",
   "metadata": {},
   "source": [
    "### Get Other Resources from GitHub ###\n",
    "Next we will attempt to remove some directories that may be leftover from a previous run. Then we get a zip file from GitHub and unzip it to pull the other code modules and data files we'll need."
   ]
  },
  {
   "cell_type": "code",
   "execution_count": null,
   "metadata": {},
   "outputs": [],
   "source": [
    "!rm -f datasets/*\n",
    "!rmdir datasets\n",
    "!rm -f helper_code/*\n",
    "!rmdir helper_code\n",
    "!rm -f models/*\n",
    "!rmdir models\n",
    "\n",
    "r = requests.get( 'https://raw.github.com/cbarlow-corelationinc/troubled_loan_detection/main/TroubledLoanDetectionFiles.zip')\n",
    "r.status_code\n",
    "z = zipfile.ZipFile(io.BytesIO(r.content))\n",
    "z.extractall()\n",
    "!ls -Abl\n",
    "\n"
   ]
  }
 ],
 "metadata": {
  "kernelspec": {
   "display_name": "Python 3",
   "language": "python",
   "name": "python3"
  },
  "language_info": {
   "codemirror_mode": {
    "name": "ipython",
    "version": 3
   },
   "file_extension": ".py",
   "mimetype": "text/x-python",
   "name": "python",
   "nbconvert_exporter": "python",
   "pygments_lexer": "ipython3",
   "version": "3.7.3"
  },
  "toc": {
   "base_numbering": 1,
   "nav_menu": {},
   "number_sections": true,
   "sideBar": true,
   "skip_h1_title": false,
   "title_cell": "Table of Contents",
   "title_sidebar": "Contents",
   "toc_cell": false,
   "toc_position": {
    "height": "calc(100% - 180px)",
    "left": "10px",
    "top": "150px",
    "width": "269px"
   },
   "toc_section_display": true,
   "toc_window_display": true
  }
 },
 "nbformat": 4,
 "nbformat_minor": 2
}
