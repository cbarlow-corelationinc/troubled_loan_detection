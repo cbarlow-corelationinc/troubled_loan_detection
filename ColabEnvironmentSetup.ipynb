{
  "nbformat": 4,
  "nbformat_minor": 0,
  "metadata": {
    "kernelspec": {
      "display_name": "Python 3",
      "language": "python",
      "name": "python3"
    },
    "language_info": {
      "codemirror_mode": {
        "name": "ipython",
        "version": 3
      },
      "file_extension": ".py",
      "mimetype": "text/x-python",
      "name": "python",
      "nbconvert_exporter": "python",
      "pygments_lexer": "ipython3",
      "version": "3.7.3"
    },
    "toc": {
      "base_numbering": 1,
      "nav_menu": {},
      "number_sections": true,
      "sideBar": true,
      "skip_h1_title": false,
      "title_cell": "Table of Contents",
      "title_sidebar": "Contents",
      "toc_cell": false,
      "toc_position": {
        "height": "calc(100% - 180px)",
        "left": "10px",
        "top": "150px",
        "width": "269px"
      },
      "toc_section_display": true,
      "toc_window_display": true
    },
    "colab": {
      "name": "ColabEnvironmentSetup.ipynb",
      "provenance": [],
      "include_colab_link": true
    }
  },
  "cells": [
    {
      "cell_type": "markdown",
      "metadata": {
        "id": "view-in-github",
        "colab_type": "text"
      },
      "source": [
        "<a href=\"https://colab.research.google.com/github/cbarlow-corelationinc/troubled_loan_detection/blob/main/ColabEnvironmentSetup.ipynb\" target=\"_parent\"><img src=\"https://colab.research.google.com/assets/colab-badge.svg\" alt=\"Open In Colab\"/></a>"
      ]
    },
    {
      "cell_type": "markdown",
      "metadata": {
        "id": "FHW5PBfDc3hn"
      },
      "source": [
        "# Google Colab Environment Setup #\n"
      ]
    },
    {
      "cell_type": "markdown",
      "metadata": {
        "id": "8qJpIWC_c3ht"
      },
      "source": [
        "## Explanation ##\n",
        "Before you run the Troubled Debt Detection [Jupyter notebooks](https://jupyter.org/) on [Google Colab](https://colab.research.google.com/notebooks/intro.ipynb), you need to run <i>this</i> notebook to create the directory structure, copy the necessary files over from [GitHub](https://github.com/), and install some missing Python libraries. The code in this notebook runs operating system commands, so it has been separated out from the pure Python notebooks themselves. "
      ]
    },
    {
      "cell_type": "markdown",
      "metadata": {
        "id": "hC6Ta11Sc3h0"
      },
      "source": [
        "### Import Python Libraries ###\n",
        "First we will import some Python libraries that <i>this<i> code needs."
      ]
    },
    {
      "cell_type": "code",
      "metadata": {
        "id": "tI3kBTOHc3h1"
      },
      "source": [
        "# Extra imports for pulling zip file from Carl GitHub repository.\n",
        "from datetime import datetime\n",
        "import requests, zipfile, io"
      ],
      "execution_count": 1,
      "outputs": []
    },
    {
      "cell_type": "markdown",
      "metadata": {
        "id": "LdPpuS16c3h2"
      },
      "source": [
        "### Install Python Libraries ###\n",
        "Next we will install some Python libraries that our Troubled Loan Detection code requires but that are not included in the default Google Colab environment."
      ]
    },
    {
      "cell_type": "code",
      "metadata": {
        "id": "3MNeq08Oc3h3",
        "outputId": "a36b2d69-75b0-430d-e9d3-fae7e7e0a5c6",
        "colab": {
          "base_uri": "https://localhost:8080/"
        }
      },
      "source": [
        "%pip install scikit-plot"
      ],
      "execution_count": 2,
      "outputs": [
        {
          "output_type": "stream",
          "text": [
            "Collecting scikit-plot\n",
            "  Downloading https://files.pythonhosted.org/packages/7c/47/32520e259340c140a4ad27c1b97050dd3254fdc517b1d59974d47037510e/scikit_plot-0.3.7-py3-none-any.whl\n",
            "Requirement already satisfied: joblib>=0.10 in /usr/local/lib/python3.6/dist-packages (from scikit-plot) (1.0.0)\n",
            "Requirement already satisfied: scikit-learn>=0.18 in /usr/local/lib/python3.6/dist-packages (from scikit-plot) (0.22.2.post1)\n",
            "Requirement already satisfied: matplotlib>=1.4.0 in /usr/local/lib/python3.6/dist-packages (from scikit-plot) (3.2.2)\n",
            "Requirement already satisfied: scipy>=0.9 in /usr/local/lib/python3.6/dist-packages (from scikit-plot) (1.4.1)\n",
            "Requirement already satisfied: numpy>=1.11.0 in /usr/local/lib/python3.6/dist-packages (from scikit-learn>=0.18->scikit-plot) (1.19.5)\n",
            "Requirement already satisfied: kiwisolver>=1.0.1 in /usr/local/lib/python3.6/dist-packages (from matplotlib>=1.4.0->scikit-plot) (1.3.1)\n",
            "Requirement already satisfied: pyparsing!=2.0.4,!=2.1.2,!=2.1.6,>=2.0.1 in /usr/local/lib/python3.6/dist-packages (from matplotlib>=1.4.0->scikit-plot) (2.4.7)\n",
            "Requirement already satisfied: python-dateutil>=2.1 in /usr/local/lib/python3.6/dist-packages (from matplotlib>=1.4.0->scikit-plot) (2.8.1)\n",
            "Requirement already satisfied: cycler>=0.10 in /usr/local/lib/python3.6/dist-packages (from matplotlib>=1.4.0->scikit-plot) (0.10.0)\n",
            "Requirement already satisfied: six>=1.5 in /usr/local/lib/python3.6/dist-packages (from python-dateutil>=2.1->matplotlib>=1.4.0->scikit-plot) (1.15.0)\n",
            "Installing collected packages: scikit-plot\n",
            "Successfully installed scikit-plot-0.3.7\n"
          ],
          "name": "stdout"
        }
      ]
    },
    {
      "cell_type": "markdown",
      "metadata": {
        "id": "D4gX_Wj3c3h3"
      },
      "source": [
        "### Get Other Resources from GitHub ###\n",
        "Next we will attempt to remove some directories that may be leftover from a previous run. Then we get a zip file from GitHub and unzip it to pull the other code modules and data files we'll need."
      ]
    },
    {
      "cell_type": "code",
      "metadata": {
        "id": "lDJcXj-Qc3h4",
        "outputId": "fb78f6f6-bbef-4240-9513-57d0c745f095",
        "colab": {
          "base_uri": "https://localhost:8080/"
        }
      },
      "source": [
        "!rm -f datasets/*\n",
        "!rmdir datasets\n",
        "!rm -f helper_code/*\n",
        "!rmdir helper_code\n",
        "!rm -f models/*\n",
        "!rmdir models\n",
        "\n",
        "r = requests.get( 'https://raw.github.com/cbarlow-corelationinc/troubled_loan_detection/main/TroubledLoanDetectionFiles.zip')\n",
        "r.status_code\n",
        "z = zipfile.ZipFile(io.BytesIO(r.content))\n",
        "z.extractall()\n",
        "!ls -Abl\n",
        "\n"
      ],
      "execution_count": 3,
      "outputs": [
        {
          "output_type": "stream",
          "text": [
            "rmdir: failed to remove 'datasets': No such file or directory\n",
            "rmdir: failed to remove 'helper_code': No such file or directory\n",
            "rmdir: failed to remove 'models': No such file or directory\n",
            "total 4216\n",
            "-rw-r--r-- 1 root root   10948 Feb 17 14:45 cb3_ann_utils.py\n",
            "-rw-r--r-- 1 root root    2646 Feb 17 14:45 cb3_email_util.py\n",
            "drwxr-xr-x 1 root root    4096 Feb 10 14:40 .config\n",
            "drwxr-xr-x 2 root root    4096 Feb 17 14:45 datasets\n",
            "drwxr-xr-x 2 root root    4096 Feb 17 14:45 helper_code\n",
            "-rw-r--r-- 1 root root   92135 Feb 17 14:45 LendingRestoreModel.ipynb\n",
            "drwxr-xr-x 2 root root    4096 Feb 17 14:45 models\n",
            "drwxr-xr-x 1 root root    4096 Feb 10 14:40 sample_data\n",
            "-rw-r--r-- 1 root root  214101 Feb 17 14:45 TroubledLoanDetection_ANN.ipynb\n",
            "-rw-r--r-- 1 root root 3968856 Feb 17 14:45 TroubledLoanDetection.ipynb\n"
          ],
          "name": "stdout"
        }
      ]
    }
  ]
}