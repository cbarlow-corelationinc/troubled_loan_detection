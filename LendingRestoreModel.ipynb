{
 "cells": [
  {
   "cell_type": "markdown",
   "metadata": {},
   "source": [
    "# Restoring a Saved Model#\n"
   ]
  },
  {
   "cell_type": "markdown",
   "metadata": {},
   "source": [
    "<a id='introduction'></a>\n",
    "## Introduction##\n",
    "This is an example of loading an already trained model from disk and using it to make predictions.\n",
    "\n",
    "<b>Table of Contents</b>\n",
    "1. [Introduction](#introduction)\n",
    "2. [Import Necessary Packages](#imports)\n",
    "3. [Load and Normalize the Data](#load_data)\n",
    "4. [Load the Model from and hdf5 Disk File](#load_model)\n",
    "5. [Summarize the Training Results](#summarize)\n",
    "6. [Conclusion](#conclusion)"
   ]
  },
  {
   "cell_type": "markdown",
   "metadata": {},
   "source": [
    "<a id='imports'></a>\n",
    "## Import Necessary Packages ##\n",
    "\n",
    "First, let's run the cell below (put your cursor in the cell and press Shift-Enter) to import all the packages that you will need.\n",
    "- [numpy](https://www.numpy.org/) is the fundamental package for scientific computing with Python.\n",
    "- [keras](https://pypi.org/project/Keras/) is a high level neural network library for deep learning applications.\n",
    "- [matplotlib](http://matplotlib.org) is a famous library to plot graphs in Python. \n",
    "- [pandas](https://pandas.pydata.org/) is a data analysis library.\n",
    "- [seaborn](https://seaborn.pydata.org/) is a data visualization library based on matplotlib.\n",
    "- [scikitplot](https://anaconda.org/conda-forge/scikit-plot) is yet another plotting library.\n",
    "- [sklearn](https://scikit-learn.org/stable/) is a collection of algorithms for classification, regression, and clustering.\n",
    "- [h5py](http://www.h5py.org) is a common package to interact with a dataset that is stored on an H5 file."
   ]
  },
  {
   "cell_type": "code",
   "execution_count": 1,
   "metadata": {},
   "outputs": [
    {
     "name": "stderr",
     "output_type": "stream",
     "text": [
      "Using TensorFlow backend.\n",
      "C:\\Users\\cbarlow\\AppData\\Local\\Continuum\\anaconda3\\lib\\site-packages\\tensorflow\\python\\framework\\dtypes.py:526: FutureWarning: Passing (type, 1) or '1type' as a synonym of type is deprecated; in a future version of numpy, it will be understood as (type, (1,)) / '(1,)type'.\n",
      "  _np_qint8 = np.dtype([(\"qint8\", np.int8, 1)])\n",
      "C:\\Users\\cbarlow\\AppData\\Local\\Continuum\\anaconda3\\lib\\site-packages\\tensorflow\\python\\framework\\dtypes.py:527: FutureWarning: Passing (type, 1) or '1type' as a synonym of type is deprecated; in a future version of numpy, it will be understood as (type, (1,)) / '(1,)type'.\n",
      "  _np_quint8 = np.dtype([(\"quint8\", np.uint8, 1)])\n",
      "C:\\Users\\cbarlow\\AppData\\Local\\Continuum\\anaconda3\\lib\\site-packages\\tensorflow\\python\\framework\\dtypes.py:528: FutureWarning: Passing (type, 1) or '1type' as a synonym of type is deprecated; in a future version of numpy, it will be understood as (type, (1,)) / '(1,)type'.\n",
      "  _np_qint16 = np.dtype([(\"qint16\", np.int16, 1)])\n",
      "C:\\Users\\cbarlow\\AppData\\Local\\Continuum\\anaconda3\\lib\\site-packages\\tensorflow\\python\\framework\\dtypes.py:529: FutureWarning: Passing (type, 1) or '1type' as a synonym of type is deprecated; in a future version of numpy, it will be understood as (type, (1,)) / '(1,)type'.\n",
      "  _np_quint16 = np.dtype([(\"quint16\", np.uint16, 1)])\n",
      "C:\\Users\\cbarlow\\AppData\\Local\\Continuum\\anaconda3\\lib\\site-packages\\tensorflow\\python\\framework\\dtypes.py:530: FutureWarning: Passing (type, 1) or '1type' as a synonym of type is deprecated; in a future version of numpy, it will be understood as (type, (1,)) / '(1,)type'.\n",
      "  _np_qint32 = np.dtype([(\"qint32\", np.int32, 1)])\n",
      "C:\\Users\\cbarlow\\AppData\\Local\\Continuum\\anaconda3\\lib\\site-packages\\tensorflow\\python\\framework\\dtypes.py:535: FutureWarning: Passing (type, 1) or '1type' as a synonym of type is deprecated; in a future version of numpy, it will be understood as (type, (1,)) / '(1,)type'.\n",
      "  np_resource = np.dtype([(\"resource\", np.ubyte, 1)])\n"
     ]
    },
    {
     "name": "stdout",
     "output_type": "stream",
     "text": [
      "Done importing required modules.\n"
     ]
    }
   ],
   "source": [
    "# Import packages\n",
    "import numpy as np\n",
    "from keras.models import load_model\n",
    "import matplotlib.pyplot as plt\n",
    "import pandas as pd\n",
    "import seaborn as sns       # for sns.heatmap\n",
    "import scikitplot as skplt\n",
    "from sklearn.metrics import confusion_matrix, precision_score, recall_score, f1_score, cohen_kappa_score\n",
    "from IPython.display import SVG\n",
    "from keras.utils.vis_utils import model_to_dot\n",
    "from keras.utils import plot_model\n",
    "from pandas.api.types import CategoricalDtype\n",
    "from sklearn.model_selection import train_test_split\n",
    "import tensorflow.python.util.deprecation as deprecation\n",
    "from cb3_ann_utils import load_and_normalize_loan_data, describe_datasets, build_compile_fit_model, \\\n",
    "    my_f1_score, cb3_plot_confusion_matrix, cb3_calculateResults1, cb3_calculateResults2, cb3_displayResults\n",
    "\n",
    "sns.set(style='white', context='notebook', palette='deep')\n",
    "deprecation._PRINT_DEPRECATION_WARNINGS = False\n",
    "%matplotlib inline\n",
    "\n",
    "print(\"Done importing required modules.\")"
   ]
  },
  {
   "cell_type": "markdown",
   "metadata": {},
   "source": [
    "<a id='load_data'></a>\n",
    "## Load and Normalize the Data ##\n",
    "\n",
    "Use pandas.read_csv() function to read the loan data from a CSV disk files into a Pandas DataFrame, and then shuffle and split up the data into a training set, a dev set (also known as a \"cross validation\" or a \"holdout\" set), and a test set.  Training is only done on the training set.  The dev set it used to evaluate the ability of the trained network to generalize well and can be used to help \"tune\" hyperparameter settings.  Finally, the test set is used to see if the performance is relatively consistent between the dev set and the test set, so that we can have confidence that the test set performance is an accurate representation of how well the network will perform on data that was not seen during training (assuming the training data was a good representative sample).  NOTE: THE FIELDS IN THE DATA FILE MUST MATCH 100% THE FIELDS THAT WERE USED AS FEATURES WHILE TRAINING THE MODEL THAT WE WILL USE!  Also, when running future predictions on unlabeled data, you will need to know the original mean and standard deviation that were used to normalize the training data so they can also be applied to new data.  So in a production product, save the mean and standard deviation of the training data along with the model itself."
   ]
  },
  {
   "cell_type": "code",
   "execution_count": 2,
   "metadata": {},
   "outputs": [
    {
     "name": "stdout",
     "output_type": "stream",
     "text": [
      "\n",
      "11 features\n",
      "Total size of dataset:  75271 loans ( 74786  good;  485  bad)\n",
      "Size of Original Training Set:  60216 loans ( 59829  good;  387  bad)\n",
      "Size of Dev Set:  7527 loans ( 7484  good;  43  bad)\n",
      "Size of Test Set:  7528 loans ( 7473  good;  55  bad)\n",
      "\n"
     ]
    }
   ],
   "source": [
    "np.random.seed(31)    # in case you need to be able to duplicate exact shuffling of data\n",
    "\n",
    "# Read CSV data\n",
    "loan_data = pd.read_csv('datasets/AnonymousLoans20190930OregonStateFull.csv', index_col = 'LOAN_SERIAL')\n",
    "\n",
    "# Extract and encode categorical features\n",
    "ln_type_cat = loan_data[['LN_TYPE_CATEGORY']].astype(CategoricalDtype([\"CC\", \"CE\", \"LC\", \"OE\"]))\n",
    "ln_type_cat = pd.get_dummies(ln_type_cat, prefix='LN_TYPE_CAT', drop_first=True)\n",
    "ln_type_cat.head()\n",
    "\n",
    "categorical_features = ln_type_cat\n",
    "\n",
    "# Extract numerical features\n",
    "#numerical_features = loan_data[['CREDIT_LIMIT', 'COBORROWER_COUNT', 'ORIGINAL_TERM_IN_MONTHS', 'BALANCE', 'MONTHLY_PMT', 'INTEREST_RATE', \\\n",
    "#                               'DQ_DAYS', 'STILL_MISSED_FIRST_PMT', 'HAS_COLLATERAL', 'AGE_IN_DAYS', 'MEMBERSHIP_DAYS', 'PMT_COUNT_MADE', \\\n",
    "#                               'PMT_COUNT_DQ_30_TO_59', 'PMT_COUNT_DQ_60_TO_89', 'PMT_COUNT_DQ_90_TO_119', \\\n",
    "#                               'PMT_COUNT_DQ_120_AND_UP', 'MONTHLY_INCOME', 'MONTHLY_EXPENSE', 'LR_AMOUNT', 'SCORE', 'AGE_OF_SCORE', \\\n",
    "#                               'AGGR_SHARE_COUNT', 'AGGR_SHARE_BAL', 'DD_CHANGE', 'CREDIT_LIMIT_INCREASE_COUNT', 'OFF_AUTO_PAY_COUNT']]\n",
    "numerical_features = loan_data[['DQ_DAYS', 'AGGR_SHARE_BAL', 'PMT_COUNT_MADE', 'MONTHLY_PMT', 'PMT_COUNT_DQ_30_TO_59', \\\n",
    "                                'CREDIT_LIMIT', 'INTEREST_RATE', 'PMT_COUNT_DQ_90_TO_119', 'SCORE', \\\n",
    "                                'COBORROWER_COUNT', 'MONTHLY_EXPENSE']]\n",
    "#loan_features = pd.concat([categorical_features, numerical_features], axis=1)\n",
    "loan_features = numerical_features\n",
    "\n",
    "\n",
    "loan_labels = loan_data['BINARY_STATUS']\n",
    "frame = { 'BINARY_STATUS': loan_labels } \n",
    "loan_labels_df = pd.DataFrame(frame)\n",
    "\n",
    "# Split the data up in train and dev sets\n",
    "X_train, X_test, y_train, y_test = train_test_split(loan_features, loan_labels_df, train_size=0.8)\n",
    "# Further split dev data into dev and test sets\n",
    "X_dev, X_test, y_dev, y_test = train_test_split(X_test, y_test, test_size=0.50)\n",
    "\n",
    "# Normalize the data\n",
    "train_mean = X_train.mean(axis=0)\n",
    "train_std = X_train.std(axis=0)\n",
    "train_std = np.where(train_std==0.0, 1.e-8, train_std) # avoid divide by zero error\n",
    "X_train -= train_mean\n",
    "X_train /= train_std\n",
    "# scale dev data and test data based on train data mean and standard deviation!\n",
    "X_dev -= train_mean\n",
    "X_dev /= train_std\n",
    "X_test -= train_mean\n",
    "X_test /= train_std\n",
    "    \n",
    "n = X_train.shape[1]  # feature count\n",
    "#describe_datasets(X_train, y_train, X_dev, y_dev, X_test, y_test, n)\n",
    "describe_datasets(X_train, y_train, X_dev, y_dev, X_test, y_test, n)"
   ]
  },
  {
   "cell_type": "markdown",
   "metadata": {},
   "source": [
    "<a id='load_model'></a>\n",
    "## Load the Model from an hdf5 Disk File ##\n",
    "The model has already been trained previously, so now you can just load the model from an hdf5 disk file, and then run the summary() function to display the neural network architecture used."
   ]
  },
  {
   "cell_type": "code",
   "execution_count": 3,
   "metadata": {},
   "outputs": [
    {
     "name": "stdout",
     "output_type": "stream",
     "text": [
      "_________________________________________________________________\n",
      "Layer (type)                 Output Shape              Param #   \n",
      "=================================================================\n",
      "dense_117 (Dense)            (None, 11)                132       \n",
      "_________________________________________________________________\n",
      "batch_normalization_88 (Batc (None, 11)                44        \n",
      "_________________________________________________________________\n",
      "dense_118 (Dense)            (None, 11)                132       \n",
      "_________________________________________________________________\n",
      "batch_normalization_89 (Batc (None, 11)                44        \n",
      "_________________________________________________________________\n",
      "dense_119 (Dense)            (None, 11)                132       \n",
      "_________________________________________________________________\n",
      "batch_normalization_90 (Batc (None, 11)                44        \n",
      "_________________________________________________________________\n",
      "dense_120 (Dense)            (None, 1)                 12        \n",
      "=================================================================\n",
      "Total params: 540\n",
      "Trainable params: 474\n",
      "Non-trainable params: 66\n",
      "_________________________________________________________________\n"
     ]
    }
   ],
   "source": [
    "# load model\n",
    "model = load_model('./models/model_20200831_s31a.h5')\n",
    "# summarize model.\n",
    "model.summary()"
   ]
  },
  {
   "cell_type": "markdown",
   "metadata": {},
   "source": [
    "<a id='summarize'></a>\n",
    "## Summarize the Training Results ##\n",
    "Display summary of various statistics about the performance of the model against the test data."
   ]
  },
  {
   "cell_type": "code",
   "execution_count": 4,
   "metadata": {},
   "outputs": [
    {
     "name": "stdout",
     "output_type": "stream",
     "text": [
      "\n",
      "Results for Test Set:\n",
      "Accuracy:  0.9938894792773645\n",
      "Precision:  0.576271186440678\n",
      "Recall:  0.6181818181818182\n",
      "F1 Score:  0.5964912280701754\n"
     ]
    },
    {
     "data": {
      "image/png": "[encoded data removed]",
      "text/plain": [
       "<Figure size 576x432 with 2 Axes>"
      ]
     },
     "metadata": {
      "needs_background": "light"
     },
     "output_type": "display_data"
    }
   ],
   "source": [
    "# Now make predictions on test data\n",
    "y_pred_test = model.predict(X_test)\n",
    "y_pred_test[y_pred_test>=0.5] = 1\n",
    "y_pred_test[y_pred_test<0.5] = 0\n",
    "y_test_numpy = y_test.to_numpy()\n",
    "\n",
    "(tp, tn, fp, fn) = cb3_calculateResults1(y_pred_test, y_test_numpy)\n",
    "(accuracy, precision, recall, f1, cm) = cb3_calculateResults2(tp, tn, fp, fn)\n",
    "cb3_displayResults(accuracy, precision, recall, f1, cm, \"Test Set\")"
   ]
  },
  {
   "cell_type": "markdown",
   "metadata": {},
   "source": [
    "Here are what the results would look like if we just set p(badLoan)=0:"
   ]
  },
  {
   "cell_type": "code",
   "execution_count": 5,
   "metadata": {
    "scrolled": false
   },
   "outputs": [
    {
     "name": "stdout",
     "output_type": "stream",
     "text": [
      "\n",
      "Results for p(BadLoans)=0:\n",
      "Accuracy:  0.9926939426142402\n",
      "Precision:  None\n",
      "Recall:  0.0\n",
      "F1 Score:  0.0\n"
     ]
    },
    {
     "data": {
      "image/png": "[encoded data removed]",
      "text/plain": [
       "<Figure size 576x432 with 2 Axes>"
      ]
     },
     "metadata": {
      "needs_background": "light"
     },
     "output_type": "display_data"
    }
   ],
   "source": [
    "bad = tp + fn\n",
    "good = tn + fp\n",
    "totLoans = bad + good\n",
    "(accuracy, precision, recall, f1, cm) = cb3_calculateResults2(0, good, 0, bad)\n",
    "cb3_displayResults(accuracy, precision, recall, f1, cm, \"p(BadLoans)=0\")"
   ]
  },
  {
   "cell_type": "markdown",
   "metadata": {},
   "source": [
    "And here are what the results would look like if we just randomly labeled a small number as bad (p(badLoan) = actual percentage bad) in hopes of improving accuracy from the p(badLoan) = 0 model:"
   ]
  },
  {
   "cell_type": "code",
   "execution_count": 6,
   "metadata": {
    "scrolled": false
   },
   "outputs": [
    {
     "name": "stdout",
     "output_type": "stream",
     "text": [
      "\n",
      "Results for p(BadLoans)=observedProbability:\n",
      "Accuracy:  0.9853878852284803\n",
      "Precision:  0.0\n",
      "Recall:  0.0\n",
      "F1 Score:  0.0\n"
     ]
    },
    {
     "data": {
      "image/png": "[encoded data removed]",
      "text/plain": [
       "<Figure size 576x432 with 2 Axes>"
      ]
     },
     "metadata": {
      "needs_background": "light"
     },
     "output_type": "display_data"
    }
   ],
   "source": [
    "p = bad\n",
    "n = good\n",
    "tp = int(round(p * bad / totLoans))\n",
    "fp = p - tp\n",
    "tn = int(round(n * good / totLoans))\n",
    "fn = n - tn\n",
    "(accuracy, precision, recall, f1, cm) = cb3_calculateResults2(tp, tn, fp, fn)\n",
    "cb3_displayResults(accuracy, precision, recall, f1, cm, \"p(BadLoans)=observedProbability\")"
   ]
  },
  {
   "cell_type": "markdown",
   "metadata": {},
   "source": [
    "You can also look at roughly which input features had the most-to-least influence on predictions (take this simplistic interpretation of the weights in the first hidden layer with a grain of salt):"
   ]
  },
  {
   "cell_type": "code",
   "execution_count": 7,
   "metadata": {},
   "outputs": [
    {
     "name": "stdout",
     "output_type": "stream",
     "text": [
      "Weights in original feature order:\n",
      "[39.18607   44.472126  19.242756  20.983543  12.631996  14.526423\n",
      " 12.618159   7.177519  13.9485855 13.44706   28.774515 ]\n",
      "\n",
      "Weights sorted most to least influential:\n",
      "44.472126 AGGR_SHARE_BAL\n",
      "39.18607 DQ_DAYS\n",
      "28.774515 MONTHLY_EXPENSE\n",
      "20.983543 MONTHLY_PMT\n",
      "19.242756 PMT_COUNT_MADE\n",
      "14.526423 CREDIT_LIMIT\n",
      "13.9485855 SCORE\n",
      "13.44706 COBORROWER_COUNT\n",
      "12.631996 PMT_COUNT_DQ_30_TO_59\n",
      "12.618159 INTEREST_RATE\n",
      "7.177519 PMT_COUNT_DQ_90_TO_119\n"
     ]
    }
   ],
   "source": [
    "weights = np.sum(np.absolute(model.layers[0].get_weights()[0]), axis=1)\n",
    "print(\"Weights in original feature order:\")\n",
    "print(weights)\n",
    "wi = np.argsort(weights)\n",
    "ws = sorted(weights)\n",
    "print(\"\\nWeights sorted most to least influential:\")\n",
    "for i in range(len(wi)-1, -1, -1):\n",
    "    print(ws[i],X_train.columns.values[wi[i]])"
   ]
  },
  {
   "cell_type": "markdown",
   "metadata": {},
   "source": [
    "We can also go back and look at a few examples of false negatives (where we predicted a good loan in the dev data, but it was actually bad), getting the full, non-normalized data from original_data. Then we can go back to the credit union and find these loans and examine them for further \"inspiration\" on what additional features might have made this more predictable. "
   ]
  },
  {
   "cell_type": "code",
   "execution_count": 8,
   "metadata": {},
   "outputs": [
    {
     "name": "stdout",
     "output_type": "stream",
     "text": [
      "\n",
      "Examples of false negatives in test data:\n",
      "\n",
      "Loan Serial  141795\n",
      "LN_TYPE_CATEGORY                       CE\n",
      "CREDIT_LIMIT                      20526.1\n",
      "COBORROWER_COUNT                        0\n",
      "ORIGINAL_TERM_IN_MONTHS                73\n",
      "BALANCE                           19402.8\n",
      "MONTHLY_PMT                        331.15\n",
      "INTEREST_RATE                        4.99\n",
      "DQ_DAYS                                46\n",
      "STILL_MISSED_FIRST_PMT                  0\n",
      "HAS_COLLATERAL                          1\n",
      "AGE_IN_DAYS                         32209\n",
      "MEMBERSHIP_DAYS                       237\n",
      "PMT_COUNT_MADE                          5\n",
      "PMT_COUNT_DQ_UNDER_30                   0\n",
      "PMT_COUNT_DQ_30_TO_59                   0\n",
      "PMT_COUNT_DQ_60_TO_89                   0\n",
      "PMT_COUNT_DQ_90_TO_119                  0\n",
      "PMT_COUNT_DQ_120_AND_UP                 0\n",
      "MONTHLY_INCOME                          0\n",
      "MONTHLY_EXPENSE                       695\n",
      "LR_AMOUNT                               0\n",
      "SCORE                                 677\n",
      "AGE_OF_SCORE                          241\n",
      "AGGR_SHARE_COUNT                        1\n",
      "AGGR_SHARE_BAL                          5\n",
      "DD_CHANGE                               0\n",
      "CREDIT_LIMIT_INCREASE_COUNT             0\n",
      "OFF_AUTO_PAY_COUNT                      0\n",
      "CHARGE_OFF_DATE                2019-12-23\n",
      "BINARY_STATUS                           1\n",
      "Name: 141795, dtype: object\n",
      "\n",
      "Loan Serial  145908\n",
      "LN_TYPE_CATEGORY                       CE\n",
      "CREDIT_LIMIT                        15883\n",
      "COBORROWER_COUNT                        0\n",
      "ORIGINAL_TERM_IN_MONTHS                72\n",
      "BALANCE                           14875.9\n",
      "MONTHLY_PMT                        296.55\n",
      "INTEREST_RATE                       10.24\n",
      "DQ_DAYS                                 0\n",
      "STILL_MISSED_FIRST_PMT                  0\n",
      "HAS_COLLATERAL                          1\n",
      "AGE_IN_DAYS                         26476\n",
      "MEMBERSHIP_DAYS                       170\n",
      "PMT_COUNT_MADE                          6\n",
      "PMT_COUNT_DQ_UNDER_30                   0\n",
      "PMT_COUNT_DQ_30_TO_59                   0\n",
      "PMT_COUNT_DQ_60_TO_89                   0\n",
      "PMT_COUNT_DQ_90_TO_119                  0\n",
      "PMT_COUNT_DQ_120_AND_UP                 0\n",
      "MONTHLY_INCOME                      695.9\n",
      "MONTHLY_EXPENSE                      1400\n",
      "LR_AMOUNT                               0\n",
      "SCORE                                 775\n",
      "AGE_OF_SCORE                          171\n",
      "AGGR_SHARE_COUNT                        1\n",
      "AGGR_SHARE_BAL                          5\n",
      "DD_CHANGE                               0\n",
      "CREDIT_LIMIT_INCREASE_COUNT             0\n",
      "OFF_AUTO_PAY_COUNT                      0\n",
      "CHARGE_OFF_DATE                2020-02-26\n",
      "BINARY_STATUS                           1\n",
      "Name: 145908, dtype: object\n",
      "\n",
      "Loan Serial  145443\n",
      "LN_TYPE_CATEGORY                       CE\n",
      "CREDIT_LIMIT                         6198\n",
      "COBORROWER_COUNT                        0\n",
      "ORIGINAL_TERM_IN_MONTHS                37\n",
      "BALANCE                           5683.47\n",
      "MONTHLY_PMT                         221.2\n",
      "INTEREST_RATE                       16.74\n",
      "DQ_DAYS                                20\n",
      "STILL_MISSED_FIRST_PMT                  0\n",
      "HAS_COLLATERAL                          1\n",
      "AGE_IN_DAYS                         21453\n",
      "MEMBERSHIP_DAYS                       177\n",
      "PMT_COUNT_MADE                          4\n",
      "PMT_COUNT_DQ_UNDER_30                   0\n",
      "PMT_COUNT_DQ_30_TO_59                   0\n",
      "PMT_COUNT_DQ_60_TO_89                   0\n",
      "PMT_COUNT_DQ_90_TO_119                  0\n",
      "PMT_COUNT_DQ_120_AND_UP                 0\n",
      "MONTHLY_INCOME                          0\n",
      "MONTHLY_EXPENSE                         0\n",
      "LR_AMOUNT                               0\n",
      "SCORE                                 797\n",
      "AGE_OF_SCORE                          177\n",
      "AGGR_SHARE_COUNT                        1\n",
      "AGGR_SHARE_BAL                          5\n",
      "DD_CHANGE                               0\n",
      "CREDIT_LIMIT_INCREASE_COUNT             0\n",
      "OFF_AUTO_PAY_COUNT                      0\n",
      "CHARGE_OFF_DATE                2020-01-27\n",
      "BINARY_STATUS                           1\n",
      "Name: 145443, dtype: object\n"
     ]
    }
   ],
   "source": [
    "# Now look at up to three examples of false negatives for inspiration\n",
    "false_negative_tuple = np.where(((y_pred_test==0) & (y_test_numpy==1)))\n",
    "false_negative_array = false_negative_tuple[0]\n",
    "l = len(false_negative_array)\n",
    "if l>0:\n",
    "    print(\"\\nExamples of false negatives in test data:\")\n",
    "for i in range(min(l, 3)):\n",
    "    loan_serial = X_test.index.values[false_negative_array[i]]\n",
    "    print(\"\\nLoan Serial \",loan_serial)\n",
    "    print(loan_data.loc[loan_serial])"
   ]
  },
  {
   "cell_type": "markdown",
   "metadata": {},
   "source": [
    "Or we can list the serial numbers of <i>all</i> false negatives:"
   ]
  },
  {
   "cell_type": "code",
   "execution_count": 9,
   "metadata": {},
   "outputs": [
    {
     "name": "stdout",
     "output_type": "stream",
     "text": [
      "\n",
      "False negatives in test data:\n",
      "Loan Serial  141795\n",
      "Loan Serial  145908\n",
      "Loan Serial  145443\n",
      "Loan Serial  147167\n",
      "Loan Serial  136919\n",
      "Loan Serial  153393\n",
      "Loan Serial  104183\n",
      "Loan Serial  94900\n",
      "Loan Serial  12306\n",
      "Loan Serial  141562\n",
      "Loan Serial  92231\n",
      "Loan Serial  79383\n",
      "Loan Serial  114305\n",
      "Loan Serial  49443\n",
      "Loan Serial  135058\n",
      "Loan Serial  84621\n",
      "Loan Serial  88931\n",
      "Loan Serial  107266\n",
      "Loan Serial  149534\n",
      "Loan Serial  87699\n",
      "Loan Serial  72024\n"
     ]
    }
   ],
   "source": [
    "if l>0:\n",
    "    print(\"\\nFalse negatives in test data:\")\n",
    "for i in range(l):\n",
    "    loan_serial = X_test.index.values[false_negative_array[i]]\n",
    "    print(\"Loan Serial \",loan_serial)\n",
    "    #print(loan_data.loc[loan_serial])"
   ]
  },
  {
   "cell_type": "markdown",
   "metadata": {},
   "source": [
    "<a id='conclusion'></a>\n",
    "## Conclusion  ##\n",
    "It takes much less time to make predictions using an existing, trained model, than it does to train a model in the first place.\n",
    "\n",
    "\n",
    "[Return to top of Notebook](#introduction)"
   ]
  },
  {
   "cell_type": "code",
   "execution_count": null,
   "metadata": {},
   "outputs": [],
   "source": []
  }
 ],
 "metadata": {
  "kernelspec": {
   "display_name": "Python 3",
   "language": "python",
   "name": "python3"
  },
  "language_info": {
   "codemirror_mode": {
    "name": "ipython",
    "version": 3
   },
   "file_extension": ".py",
   "mimetype": "text/x-python",
   "name": "python",
   "nbconvert_exporter": "python",
   "pygments_lexer": "ipython3",
   "version": "3.7.3"
  },
  "toc": {
   "base_numbering": 1,
   "nav_menu": {},
   "number_sections": true,
   "sideBar": true,
   "skip_h1_title": false,
   "title_cell": "Table of Contents",
   "title_sidebar": "Contents",
   "toc_cell": false,
   "toc_position": {
    "height": "calc(100% - 180px)",
    "left": "10px",
    "top": "150px",
    "width": "269px"
   },
   "toc_section_display": true,
   "toc_window_display": true
  }
 },
 "nbformat": 4,
 "nbformat_minor": 2
}
